{
 "cells": [
  {
   "cell_type": "code",
   "execution_count": 7,
   "id": "88e67652-97b5-4437-8e11-853c2a709c54",
   "metadata": {},
   "outputs": [
    {
     "name": "stdout",
     "output_type": "stream",
     "text": [
      "None\n",
      "Read-Only: True\n"
     ]
    }
   ],
   "source": []
  },
  {
   "cell_type": "code",
   "execution_count": null,
   "id": "971513a3-ed11-4686-aed4-93812c369dcc",
   "metadata": {},
   "outputs": [],
   "source": [
    "import asyncpraw\n",
    "import asyncio\n",
    "import json\n",
    "import os\n",
    "from dotenv import load_dotenv\n",
    "\n",
    "load_dotenv()\n",
    "\n",
    "reddit = asyncpraw.Reddit(\n",
    "    client_id=os.getenv(\"REDDIT_CLIENT_ID\"),\n",
    "    client_secret=os.getenv(\"REDDIT_SECRET\"),\n",
    "    user_agent=os.getenv(\"REDDIT_USER_AGENT\")\n",
    ")\n",
    "\n",
    "subreddits = [\"technology\", \"science\", \"programming\", \"artificial\", \"datascience\"]\n",
    "\n",
    "async def fetch_reddit_data():\n",
    "    reddit_data = []\n",
    "    for subreddit_name in subreddits:\n",
    "        subreddit = await reddit.subreddit(subreddit_name)\n",
    "        async for post in subreddit.hot(limit=30):\n",
    "            post_data = {\n",
    "                \"subreddit\": subreddit_name,\n",
    "                \"title\": post.title,\n",
    "                \"author\": str(post.author),\n",
    "                \"url\": post.url,\n",
    "                \"upvotes\": post.score,\n",
    "                \"comments\": []\n",
    "            }\n",
    "\n",
    "            await post.comments.replace_more(limit=0)  \n",
    "            \n",
    "            comment_count = 0\n",
    "            for comment in post.comments.list():  \n",
    "                post_data[\"comments\"].append(comment.body[:])  \n",
    "                comment_count += 1\n",
    "                if comment_count >= 15: \n",
    "                    break\n",
    "\n",
    "            reddit_data.append(post_data)\n",
    "            await asyncio.sleep(2)  \n",
    "\n",
    "    with open('reddit__new2_tech_scrape.json', 'w') as f:\n",
    "        json.dump(reddit_data, f, indent=4)\n",
    "\n",
    "await fetch_reddit_data() \n"
   ]
  },
  {
   "cell_type": "raw",
   "id": "8e9fdc5c-89d2-46e7-8e0d-b4a8986b3762",
   "metadata": {},
   "source": []
  },
  {
   "cell_type": "code",
   "execution_count": null,
   "id": "268896a0-8758-4376-959d-fc63f47a525b",
   "metadata": {},
   "outputs": [],
   "source": []
  },
  {
   "cell_type": "code",
   "execution_count": null,
   "id": "8b9e81cc-4057-418e-b68f-81662323ffd0",
   "metadata": {},
   "outputs": [],
   "source": []
  },
  {
   "cell_type": "code",
   "execution_count": null,
   "id": "a6125e1c-1f6c-4aa5-9905-7f550a70538f",
   "metadata": {},
   "outputs": [],
   "source": []
  },
  {
   "cell_type": "code",
   "execution_count": null,
   "id": "d7958726-8802-4e37-8a05-4f20058b69b9",
   "metadata": {},
   "outputs": [],
   "source": []
  },
  {
   "cell_type": "code",
   "execution_count": null,
   "id": "70a8f858-5652-420b-9aa5-449152de75a5",
   "metadata": {},
   "outputs": [],
   "source": []
  }
 ],
 "metadata": {
  "kernelspec": {
   "display_name": "Python 3 (ipykernel)",
   "language": "python",
   "name": "python3"
  },
  "language_info": {
   "codemirror_mode": {
    "name": "ipython",
    "version": 3
   },
   "file_extension": ".py",
   "mimetype": "text/x-python",
   "name": "python",
   "nbconvert_exporter": "python",
   "pygments_lexer": "ipython3",
   "version": "3.12.7"
  }
 },
 "nbformat": 4,
 "nbformat_minor": 5
}
