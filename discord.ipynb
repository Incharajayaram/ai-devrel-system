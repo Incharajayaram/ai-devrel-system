{
 "cells": [
  {
   "cell_type": "code",
   "execution_count": 1,
   "id": "c9708f87-9e24-4724-a871-e24e236a3160",
   "metadata": {},
   "outputs": [],
   "source": []
  },
  {
   "cell_type": "code",
   "execution_count": 5,
   "id": "2c827bc6-42e9-4a0a-98b9-042c11b53f9f",
   "metadata": {},
   "outputs": [
    {
     "data": {
      "text/plain": [
       "<Task pending name='Task-87' coro=<Client.start() running at C:\\Users\\SAMIR SINHA\\anaconda3\\Lib\\site-packages\\discord\\client.py:802>>"
      ]
     },
     "execution_count": 5,
     "metadata": {},
     "output_type": "execute_result"
    },
    {
     "name": "stderr",
     "output_type": "stream",
     "text": [
      "[2025-02-22 15:28:11] [INFO    ] discord.client: logging in using static token\n",
      "[2025-02-22 15:28:14] [INFO    ] discord.gateway: Shard ID None has connected to Gateway (Session ID: e18e9ba733b5b70eb28c7c46c621fd7b).\n"
     ]
    },
    {
     "name": "stdout",
     "output_type": "stream",
     "text": [
      "Logged in as Scraping_Kid#8572\n"
     ]
    }
   ],
   "source": [
    "import discord\n",
    "import nest_asyncio\n",
    "import asyncio  # Helps in asynchronous operations\n",
    "from dotenv import load_dotenv  # Import to load the .env file\n",
    "import os  # To access environment variables\n",
    "\n",
    "nest_asyncio.apply()\n",
    "\n",
    "# Load environment variables from the .env file\n",
    "load_dotenv()\n",
    "\n",
    "# Access the token from the .env file\n",
    "discord_token = os.getenv(\"DISCORD_TOKEN\")\n",
    "\n",
    "# Proceed without raising an error if token is missing\n",
    "if discord_token is None:\n",
    "    print(\"Warning: No DISCORD_TOKEN found in .env file!\")\n",
    "\n",
    "intents = discord.Intents.default()  # Enables bot's intents using default permissions\n",
    "intents.message_content = True  # Enables the bot to read and respond to messages\n",
    "\n",
    "bot = discord.Client(intents=intents)  # Creates a bot instance with the specific required intents\n",
    "\n",
    "@bot.event\n",
    "async def on_ready():\n",
    "    print(f'Logged in as {bot.user}')  # Prints the message confirming that bot is online\n",
    "\n",
    "@bot.event\n",
    "async def on_message(message):\n",
    "    if message.author == bot.user:  # Prevents the bot from responding to itself\n",
    "        return\n",
    "    print(message.content)\n",
    "\n",
    "loop = asyncio.get_event_loop()\n",
    "loop.create_task(bot.start(discord_token))  # Pass the token from .env to start the bot\n"
   ]
  },
  {
   "cell_type": "code",
   "execution_count": null,
   "id": "19da75e3-70b2-4268-8abb-4bcae71ed8f1",
   "metadata": {},
   "outputs": [],
   "source": []
  }
 ],
 "metadata": {
  "kernelspec": {
   "display_name": "Python 3 (ipykernel)",
   "language": "python",
   "name": "python3"
  },
  "language_info": {
   "codemirror_mode": {
    "name": "ipython",
    "version": 3
   },
   "file_extension": ".py",
   "mimetype": "text/x-python",
   "name": "python",
   "nbconvert_exporter": "python",
   "pygments_lexer": "ipython3",
   "version": "3.12.7"
  }
 },
 "nbformat": 4,
 "nbformat_minor": 5
}
