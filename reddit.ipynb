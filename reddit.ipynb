{
 "cells": [
  {
   "cell_type": "code",
   "execution_count": 7,
   "id": "88e67652-97b5-4437-8e11-853c2a709c54",
   "metadata": {},
   "outputs": [
    {
     "name": "stdout",
     "output_type": "stream",
     "text": [
      "None\n",
      "Read-Only: True\n"
     ]
    }
   ],
   "source": [
    "import praw\n",
    "import time\n",
    "import json\n",
    "from dotenv import load_dotenv\n",
    "import os\n",
    "\n",
    "load_dotenv()\n",
    "client_id = os.getenv(\"REDDIT_CLIENT_ID\")\n",
    "secret = os.getenv(\"REDDIT_SECRET\")\n",
    "user_agent = os.getenv(\"REDDIT_USER_AGENT\")\n",
    "\n",
    "# Initialize Read-Only Reddit API Client\n",
    "reddit = praw.Reddit(\n",
    "    client_id=client_id,  # Your Client ID\n",
    "    client_secret=secret,  # Your Client Secret\n",
    "    user_agent=user_agent  # A unique name for your bot\n",
    ")\n",
    "\n",
    "print(reddit.user.me()) #Checks if everything is set up correctly.\n",
    "\n",
    "print(f\"Read-Only: {reddit.read_only}\") #To check if the work is going on in the Read only mode or not\n",
    "\n",
    "\n"
   ]
  },
  {
   "cell_type": "code",
   "execution_count": 2,
   "id": "971513a3-ed11-4686-aed4-93812c369dcc",
   "metadata": {},
   "outputs": [],
   "source": [
    "subreddits = [\"technology\", \"science\", \"programming\", \"artificial\", \"datascience\"]\n",
    "\n",
    "reddit_data = []\n",
    "time_sleep = 5\n",
    "\n",
    "try:\n",
    "    for subreddit_name in subreddits:\n",
    "        subreddit = reddit.subreddit(subreddit_name)\n",
    "        \n",
    "        for _, post in enumerate(subreddit.hot(limit=10)):  # Get the  top 10 posts\n",
    "            post_data = {\n",
    "                \"subreddit\": subreddit_name,\n",
    "                \"title\": post.title,\n",
    "                \"author\": str(post.author),\n",
    "                \"url\": post.url,\n",
    "                \"upvotes\": post.score,\n",
    "                \"comments\": []\n",
    "            }\n",
    "\n",
    "            post.comments.replace_more(limit=0) \n",
    "            comment_count = 0\n",
    "\n",
    "            for comment in post.comments:\n",
    "                post_data[\"comments\"].append(comment.body[:])  \n",
    "                comment_count += 1\n",
    "                if comment_count > 10: \n",
    "                    break\n",
    "\n",
    "            reddit_data.append(post_data)\n",
    "            time.sleep(time_sleep) \n",
    "\n",
    "except Exception as e:\n",
    "    print(f\"Error: {e}\")\n",
    "\n",
    "\n",
    "s1 = json.dumps(reddit_data, indent=8)\n",
    "with open('reddit_tech_scrape.json', 'w') as f:\n",
    "    json.dump(reddit_data, f)"
   ]
  },
  {
   "cell_type": "raw",
   "id": "8e9fdc5c-89d2-46e7-8e0d-b4a8986b3762",
   "metadata": {},
   "source": []
  },
  {
   "cell_type": "code",
   "execution_count": null,
   "id": "268896a0-8758-4376-959d-fc63f47a525b",
   "metadata": {},
   "outputs": [],
   "source": []
  },
  {
   "cell_type": "code",
   "execution_count": null,
   "id": "8b9e81cc-4057-418e-b68f-81662323ffd0",
   "metadata": {},
   "outputs": [],
   "source": []
  },
  {
   "cell_type": "code",
   "execution_count": null,
   "id": "a6125e1c-1f6c-4aa5-9905-7f550a70538f",
   "metadata": {},
   "outputs": [],
   "source": []
  },
  {
   "cell_type": "code",
   "execution_count": null,
   "id": "d7958726-8802-4e37-8a05-4f20058b69b9",
   "metadata": {},
   "outputs": [],
   "source": []
  },
  {
   "cell_type": "code",
   "execution_count": null,
   "id": "70a8f858-5652-420b-9aa5-449152de75a5",
   "metadata": {},
   "outputs": [],
   "source": []
  }
 ],
 "metadata": {
  "kernelspec": {
   "display_name": "Python 3 (ipykernel)",
   "language": "python",
   "name": "python3"
  },
  "language_info": {
   "codemirror_mode": {
    "name": "ipython",
    "version": 3
   },
   "file_extension": ".py",
   "mimetype": "text/x-python",
   "name": "python",
   "nbconvert_exporter": "python",
   "pygments_lexer": "ipython3",
   "version": "3.12.7"
  }
 },
 "nbformat": 4,
 "nbformat_minor": 5
}
