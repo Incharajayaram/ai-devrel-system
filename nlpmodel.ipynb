{
 "cells": [
  {
   "cell_type": "code",
   "execution_count": 8,
   "metadata": {},
   "outputs": [
    {
     "name": "stdout",
     "output_type": "stream",
     "text": [
      "first 2 entries: [{'subreddit': 'technology', 'title': 'FBI Says Backup Now—Confirms Dangerous Attacks Underway', 'author': 'lurker_bee', 'url': 'https://www.forbes.com/sites/daveywinder/2025/02/21/new-fbi-warning-backup-today-as-dangerous-attacks-ongoing/', 'upvotes': 25173, 'comments': ['WARNING! The link in question may require you to disable ad-blockers to see content.  Though not required, please consider submitting an alternative source for this story.\\n\\nWARNING! Disabling your ad blocker may open you up to malware infections, malicious cookies and can expose you to unwanted tracker networks.  PROCEED WITH CAUTION.\\n\\nDo not open any files which are automatically downloaded, and do not enter personal information on any page you do not trust. \\nIf you are concerned about tracking, consider opening the page in an incognito window, and verify that your browser is sending \"do not track\" requests.  \\n\\nIF YOU ENCOUNTER ANY MALWARE, MALICIOUS TRACKERS, CLICKJACKING, OR REDIRECT LOOPS PLEASE MESSAGE THE /r/technology MODERATORS IMMEDIATELY.  \\n\\n\\n*I am a bot, and this action was performed automatically. Please [contact the moderators of this subreddit](/message/compose/?to=/r/technology) if you have any questions or concerns.*', 'For emphasis: \\n\\n\"Ghost prefers to use publicly available code to exploit known security vulnerabilities in software and firmware that their operators have not patched\"\\n\\n \"Their methodology includes leveraging vulnerabilities in Fortinet FortiOS appliances, servers running Adobe ColdFusion, Microsoft SharePoint and Microsoft Exchange, commonly referred to as the ProxyShell attack chain.\"\\n\\nget those servers updated!  the files you save could be your own!', \"> The Ghost ransomware campaign highlights the persistent reality that adversaries exploit known vulnerabilities faster than many organizations can patch them\\n\\nSo, this will really only affects corporations and government agencies that are slashing IT staff and budgets, sacrificing cybersecurity for short-term profit and politics.\\n\\nAnd luckily, that doesn't apply to many corporations and government agencies.\\n\\n-\\n\\n\\n\\n^^^ah ^^^fuck.\", 'A joint security advisory published Feb. 19 by the FBI and the Cybersecurity and Infrastructure Security Agency, AA25-050A, has warned organizations around the world of a dangerous ransomware group known as Ghost, which is carrying out ongoing attacks targeting multiple industry sectors across more than 70 countries.\\n\\n\\n\\nThe threat actors, working out of China according to the FBI, go by many different names although Ghost appears to be the most common: Cring, Crypt3r, Phantom, Strike, Hello, Wickrme, HsHarada and Rapture, for example. What doesn’t vary, however, is the attack methodology. Rather than using phishing techniques, the chosen method for the vast majority of ransomware attacks these days, Ghost prefers to use publicly available code to exploit known security vulnerabilities in software and firmware that their operators have not patched. They do this to gain access to internet-facing servers and ultimately strike with the ransomware payload.', 'I’m sure the new fbi director will handle this in the most competent way possible, who is it again? …checks notes… oh…. Oh no…', 'The attacks have been ongoing this whole time. They didn\\'t just start, they never really stopped.\\n\\nWhat\\'s different is that as Elon and Trump were firing everyone at the FBI and CISA, the agents on the way out were warning of the attacks they were actively in the middle of mitigating.\\n\\nThe only new thing in the headline is that Trump, Elon, and Patel are now saying, \"you\\'re on your own now\". They aren\\'t interested in protecting national cyber security anymore.', '> Ghost prefers to use publicly available code to exploit known security vulnerabilities in software and firmware that their operators have not patched.\\n\\nKeep your stuff patched along with backups.', 'If you don’t patch, you really have no business being a sysadmin.', \"Don't worry. Big Balls will take care of it.\", \"The FBI run by Kash Patel? That FBI? They're giving me advice? Yeah, I'll get right on it.\", 'The call is coming from inside the house']}, {'subreddit': 'technology', 'title': 'Mark Zuckerberg’s makeover didn’t make people like him, study shows', 'author': 'NowThatsMalarkey', 'url': 'https://techcrunch.com/2025/02/20/mark-zuckerbergs-makeover-didnt-make-people-like-him-study-shows/?guccounter=1&guce_referrer=aHR0cHM6Ly93d3cuZ29vZ2xlLmNvbS8&guce_referrer_sig=AQAAANAZlr-hGuhX1KqqPjBTkTce5FHYoTfozy456eW6cuu8YldzC5rpGfIlP07_a0jXdYc_eaaM6DrAXHX5G8e2xGc5SpbfTOxsJAwxR81w_TBGJlcjoLsVnZ8PWO1lNJgWgzm3MMz0BHDbCl-W5ehgrTueoJBD4LubB0aUd2ecJ39Y', 'upvotes': 13950, 'comments': ['silicon valley midlife crises are hitting different these days', 'What? A new broccoli hair do and a large tee shirt didn’t suddenly make an unlikable dork likeable? Fuck me. What a world.', \"Doesn't really matter if people like him if everyone keeps using his company's products, which only continues to increase his wealth and power...\", 'It’s kinda sad (maybe amusing is the right word) cause he was somewhat repairing his reputation when he was in the news and on social media getting fit, doing professional fighting, and responding to Musk’s harassment with clever and appropriate quips.\\xa0\\n\\nThen he decided “naaaah being good is too much effort, back to evil it is!” and now I guess he’s goose stepping with Musk. 😕\\xa0\\n\\nLike damn, Mark, you nearly had an opportunity to fix your horrible PR by punching out a nazi oligarch in a cage match and you decided to suck their dick instead.\\xa0', 'he still talks and acts like a lizard person', 'The guy is a dweeb with negative charisma', 'Lipstick not good enough for this pig?', 'AI is not developed far enough to find ways to make Zuckerberg likeable. \\n\\nMaybe when we have quantum computers and we combine them with AI, he has a chance.', \"Maybe he's unlikable because he made a website to rate college women on their looks without their knowledge or consent. The man's a creep. Did everyone forget?\", \"I will only appreciate what he's doing if he's fertilizing plants with his ashes\\n\\nAs long as he's making people's lives worse I think he's a loser\\n\\nHe has enough money to do so much good that even the biggest critic would be forced to like him.  But he's a jerk and he doesn't want to do the right thing, just the easy and manipulative things\", 'Carnegie figured it out - if you want a decent legacy you have to give away a significant portion of your wealth to something that actually benefits people. Carnegie did it by funding beautiful Libraries (among other things). There are so many things Zuck could do for people if he really did care about public opinion and legacy. Otherwise he’ll always just be seen as some asshole who hordes his wealth and barely acted human.']}]\n",
      "data type: <class 'list'>\n"
     ]
    }
   ],
   "source": [
    "import json \n",
    "\n",
    "# load json file\n",
    "with  open(\"reddit_tech_scrape[1].json\", \"r\", encoding=\"utf-8\") as file:\n",
    "    data = json.load(file)\n",
    "\n",
    "\n",
    "\n",
    "print(\"first 2 entries:\", data[:2])\n",
    "print(\"data type:\", type(data))"
   ]
  },
  {
   "cell_type": "code",
   "execution_count": 9,
   "metadata": {},
   "outputs": [
    {
     "name": "stdout",
     "output_type": "stream",
     "text": [
      "columns in dataframe: Index(['subreddit', 'title', 'author', 'url', 'upvotes', 'comments'], dtype='object')\n"
     ]
    }
   ],
   "source": [
    "import pandas as pd\n",
    "df = pd.DataFrame(data)\n",
    "print(\"columns in dataframe:\", df.columns)"
   ]
  },
  {
   "cell_type": "code",
   "execution_count": 10,
   "metadata": {},
   "outputs": [
    {
     "name": "stdout",
     "output_type": "stream",
     "text": [
      "comments\n",
      "<class 'list'>    50\n",
      "Name: count, dtype: int64\n"
     ]
    }
   ],
   "source": [
    "print(df['comments'].apply(type).value_counts())"
   ]
  },
  {
   "cell_type": "code",
   "execution_count": 12,
   "metadata": {},
   "outputs": [
    {
     "name": "stdout",
     "output_type": "stream",
     "text": [
      "    subreddit                                              title      author  \\\n",
      "0  technology  FBI Says Backup Now—Confirms Dangerous Attacks...  lurker_bee   \n",
      "1  technology  FBI Says Backup Now—Confirms Dangerous Attacks...  lurker_bee   \n",
      "2  technology  FBI Says Backup Now—Confirms Dangerous Attacks...  lurker_bee   \n",
      "3  technology  FBI Says Backup Now—Confirms Dangerous Attacks...  lurker_bee   \n",
      "4  technology  FBI Says Backup Now—Confirms Dangerous Attacks...  lurker_bee   \n",
      "\n",
      "                                                 url  upvotes  \\\n",
      "0  https://www.forbes.com/sites/daveywinder/2025/...    25173   \n",
      "1  https://www.forbes.com/sites/daveywinder/2025/...    25173   \n",
      "2  https://www.forbes.com/sites/daveywinder/2025/...    25173   \n",
      "3  https://www.forbes.com/sites/daveywinder/2025/...    25173   \n",
      "4  https://www.forbes.com/sites/daveywinder/2025/...    25173   \n",
      "\n",
      "                                             comment  \n",
      "0  WARNING! The link in question may require you ...  \n",
      "1  For emphasis: \\n\\n\"Ghost prefers to use public...  \n",
      "2  > The Ghost ransomware campaign highlights the...  \n",
      "3  A joint security advisory published Feb. 19 by...  \n",
      "4  I’m sure the new fbi director will handle this...  \n"
     ]
    }
   ],
   "source": [
    "df_exploded = df.explode('comments')\n",
    "df_exploded.rename(columns={\"comments\": \"comment\"}, inplace=True)\n",
    "df_exploded.dropna(subset=[\"comment\"], inplace=True)\n",
    "df_exploded.reset_index(drop=True, inplace=True)\n",
    "print(df_exploded.head())"
   ]
  },
  {
   "cell_type": "code",
   "execution_count": 13,
   "metadata": {},
   "outputs": [
    {
     "name": "stdout",
     "output_type": "stream",
     "text": [
      "    subreddit                                              title      author  \\\n",
      "0  technology  FBI Says Backup Now—Confirms Dangerous Attacks...  lurker_bee   \n",
      "1  technology  FBI Says Backup Now—Confirms Dangerous Attacks...  lurker_bee   \n",
      "2  technology  FBI Says Backup Now—Confirms Dangerous Attacks...  lurker_bee   \n",
      "3  technology  FBI Says Backup Now—Confirms Dangerous Attacks...  lurker_bee   \n",
      "4  technology  FBI Says Backup Now—Confirms Dangerous Attacks...  lurker_bee   \n",
      "\n",
      "                                                 url  upvotes  \\\n",
      "0  https://www.forbes.com/sites/daveywinder/2025/...    25173   \n",
      "1  https://www.forbes.com/sites/daveywinder/2025/...    25173   \n",
      "2  https://www.forbes.com/sites/daveywinder/2025/...    25173   \n",
      "3  https://www.forbes.com/sites/daveywinder/2025/...    25173   \n",
      "4  https://www.forbes.com/sites/daveywinder/2025/...    25173   \n",
      "\n",
      "                                             comment  \n",
      "0  For emphasis: \\n\\n\"Ghost prefers to use public...  \n",
      "1  > The Ghost ransomware campaign highlights the...  \n",
      "2  A joint security advisory published Feb. 19 by...  \n",
      "3  I’m sure the new fbi director will handle this...  \n",
      "4  The attacks have been ongoing this whole time....  \n"
     ]
    }
   ],
   "source": [
    "def is_valid_comment(comment):\n",
    "    bot_phrases= [\n",
    "        \"I am a bot\", \"PLease contact the moderators\", \"WARNING\", \"proceed with caution\", \"malicious trackers\"\n",
    "    ]\n",
    "    return not any(phrase in comment for phrase in bot_phrases)\n",
    "\n",
    "df_exploded = df_exploded[df_exploded[\"comment\"].apply(is_valid_comment)]\n",
    "df_exploded.reset_index(drop=True, inplace=True)\n",
    "print(df_exploded.head())"
   ]
  },
  {
   "cell_type": "code",
   "execution_count": 14,
   "metadata": {},
   "outputs": [
    {
     "name": "stdout",
     "output_type": "stream",
     "text": [
      "                                             comment  \\\n",
      "0  For emphasis: \\n\\n\"Ghost prefers to use public...   \n",
      "1  > The Ghost ransomware campaign highlights the...   \n",
      "2  A joint security advisory published Feb. 19 by...   \n",
      "3  I’m sure the new fbi director will handle this...   \n",
      "4  The attacks have been ongoing this whole time....   \n",
      "\n",
      "                                     cleaned_comment  \n",
      "0  emphasis ghost prefer use publicly available c...  \n",
      "1    Ghost ransomware campaign highlight persiste...  \n",
      "2  joint security advisory publish Feb 19 FBI Cyb...  \n",
      "3  m sure new fbi director handle competent way p...  \n",
      "4  attack ongoing time not start stoppedwhat diff...  \n"
     ]
    }
   ],
   "source": [
    "import re\n",
    "import spacy\n",
    "\n",
    "nlp = spacy.load(\"en_core_web_sm\")\n",
    "\n",
    "def clean_text(text):\n",
    "    text = re.sub(r'http\\S+', '', text)  # Remove URLs\n",
    "    text = re.sub(r'[^A-Za-z0-9 ]+', '', text)  # Remove special characters\n",
    "    text = ' '.join([token.lemma_ for token in nlp(text) if not token.is_stop])  # Lemmatization\n",
    "    return text\n",
    "\n",
    "# Apply cleaning to the 'comment' column\n",
    "df_exploded[\"cleaned_comment\"] = df_exploded[\"comment\"].apply(clean_text)\n",
    "\n",
    "print(df_exploded[[\"comment\", \"cleaned_comment\"]].head())  # Verify results"
   ]
  },
  {
   "cell_type": "code",
   "execution_count": null,
   "metadata": {},
   "outputs": [],
   "source": [
    "from bertopic import BERTopic\n",
    "\n",
    "topic_model = BERTopic()\n"
   ]
  },
  {
   "cell_type": "code",
   "execution_count": null,
   "metadata": {},
   "outputs": [],
   "source": []
  },
  {
   "cell_type": "code",
   "execution_count": null,
   "metadata": {},
   "outputs": [],
   "source": []
  }
 ],
 "metadata": {
  "kernelspec": {
   "display_name": "Python 3",
   "language": "python",
   "name": "python3"
  },
  "language_info": {
   "codemirror_mode": {
    "name": "ipython",
    "version": 3
   },
   "file_extension": ".py",
   "mimetype": "text/x-python",
   "name": "python",
   "nbconvert_exporter": "python",
   "pygments_lexer": "ipython3",
   "version": "3.10.0"
  }
 },
 "nbformat": 4,
 "nbformat_minor": 2
}
