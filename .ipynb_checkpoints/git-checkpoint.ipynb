{
 "cells": [
  {
   "cell_type": "code",
   "execution_count": 1,
   "id": "bb8691f7-d52c-4eef-a6ab-3dbd7743e6f9",
   "metadata": {},
   "outputs": [
    {
     "name": "stdout",
     "output_type": "stream",
     "text": [
      "Loading .env from: C:\\Users\\SAMIR SINHA\\OneDrive\\Desktop\\ai-devrel-system\\.env\n",
      "The API_KEY is 865dcdd0f482750e38290d85cf3cab90\n",
      "Trending repositories saved to github_trending_data.json\n"
     ]
    }
   ],
   "source": [
    "import requests\n",
    "from bs4 import BeautifulSoup\n",
    "import lxml\n",
    "import json\n",
    "import os\n",
    "from dotenv import load_dotenv\n",
    "\n",
    "env_path= os.path.abspath(\".env\")\n",
    "print(f\"Loading .env from: {env_path}\")\n",
    "\n",
    "load_dotenv(dotenv_path=env_path)\n",
    "\n",
    "#Above are the required libraries for working on this thing\n",
    "\n",
    "load_dotenv()\n",
    "API_KEY = os.getenv(\"SCRAPPER_API\")\n",
    "\n",
    "print(f\"The API_KEY is {API_KEY}\")\n",
    " #Above methods are done to make sure that API_KEY does not exposed while pushing this code ot Github\n",
    "if not API_KEY:\n",
    "    print(\"API key is missing!\")\n",
    "#Just a checker if API Key is missing or not\n",
    "\n",
    "\n",
    "URL = \"https://github.com/trending\" #The URL to be scraped\n",
    "proxy_url = f\"https://api.scraperapi.com/?api_key={API_KEY}&url={URL}\"\n",
    "\n",
    "response = requests.get(proxy_url, timeout=10) #We can add timeout by writing this - requests.get(proxy_url, timeout=10)\n",
    "\n",
    "#Above statement comes from bs4 (My udemy course)\n",
    "\n",
    "if response.status_code == 200:\n",
    "    soup = BeautifulSoup(response.text, \"lxml\") #We could've also used \"lxml\" instead of this but it's fine although lxml would have provided faster processing\n",
    "\n",
    "    trending_repos = [] #list to contain the final data appneded in the form of a dictionary\n",
    "    for repo in soup.find_all(\"article\", class_=\"Box-row\")[:10]: \n",
    "        title_tag = repo.find(\"h2\", class_=\"h3 lh-condensed\")\n",
    "        description_tag = repo.find(\"p\", class_=\"col-9 color-fg-muted my-1 pr-4\")\n",
    "\n",
    "        title = title_tag.text.strip().replace(\"\\n\", \" \") if title_tag else \"No Title\"\n",
    "        description = description_tag.text.strip() if description_tag else \"No Description\"\n",
    "\n",
    "        trending_repos.append({\"title\": title, \"description\": description})\n",
    "\n",
    "    \n",
    "    with open(\"github__data.json\", \"w\") as json_file:\n",
    "        json.dump(trending_repos, json_file, indent=4)\n",
    "\n",
    "    print(\"Trending repositories saved to github_trending_data.json\")\n",
    "\n",
    "else:\n",
    "    print(f\"Failed to fetch data. Status Code: {response.status_code}\")"
   ]
  },
  {
   "cell_type": "code",
   "execution_count": null,
   "id": "50185f42-55c8-4fd5-9c63-8ac1bb8f74ba",
   "metadata": {},
   "outputs": [],
   "source": []
  },
  {
   "cell_type": "code",
   "execution_count": null,
   "id": "cfbc1051-215b-432a-8375-613b6f1b3572",
   "metadata": {},
   "outputs": [],
   "source": []
  },
  {
   "cell_type": "code",
   "execution_count": null,
   "id": "9f9ae0be-c741-4b34-af1e-0fdd907b6305",
   "metadata": {},
   "outputs": [],
   "source": []
  }
 ],
 "metadata": {
  "kernelspec": {
   "display_name": "Python 3 (ipykernel)",
   "language": "python",
   "name": "python3"
  },
  "language_info": {
   "codemirror_mode": {
    "name": "ipython",
    "version": 3
   },
   "file_extension": ".py",
   "mimetype": "text/x-python",
   "name": "python",
   "nbconvert_exporter": "python",
   "pygments_lexer": "ipython3",
   "version": "3.12.7"
  }
 },
 "nbformat": 4,
 "nbformat_minor": 5
}
